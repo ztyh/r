{
 "cells": [
  {
   "cell_type": "markdown",
   "metadata": {},
   "source": [
    "[ここ](https://stat.ethz.ch/R-manual/R-devel/library/base/html/regex.html)参照。正規表現のパターンってのは基本的にはどの言語でも同じだそうです。"
   ]
  },
  {
   "cell_type": "markdown",
   "metadata": {},
   "source": [
    "`?`すぐ前のものが０個あるいは１個でマッチ判定<br />\n",
    "`^`で始まりであることを指定<br />\n",
    "`[a-z]`てのは小文字アルファベット"
   ]
  },
  {
   "cell_type": "code",
   "execution_count": 26,
   "metadata": {},
   "outputs": [
    {
     "data": {
      "text/html": [
       "'@gmail.com'"
      ],
      "text/latex": [
       "'@gmail.com'"
      ],
      "text/markdown": [
       "'@gmail.com'"
      ],
      "text/plain": [
       "[1] \"@gmail.com\""
      ]
     },
     "metadata": {},
     "output_type": "display_data"
    }
   ],
   "source": [
    "grep(\"^@?[a-z]\",c(\"@gmail.com\",\"@@gmail.com\"),value=TRUE)"
   ]
  },
  {
   "cell_type": "markdown",
   "metadata": {},
   "source": [
    "`*`すぐ前のものが０個以上でマッチ判定<br />\n",
    "`\\\\s`は空白、スペースでもタブでも<br />\n",
    "`\\\\w`は文字、数字も含む<br />\n",
    "`\\t`はタブ<br />\n",
    "パターンでエスケープするときはバックスラッシュが二ついるようです。"
   ]
  },
  {
   "cell_type": "code",
   "execution_count": 27,
   "metadata": {},
   "outputs": [
    {
     "data": {
      "text/html": [
       "<ol class=list-inline>\n",
       "\t<li>'a bird'</li>\n",
       "\t<li>' 911'</li>\n",
       "\t<li>'\\thello'</li>\n",
       "</ol>\n"
      ],
      "text/latex": [
       "\\begin{enumerate*}\n",
       "\\item 'a bird'\n",
       "\\item ' 911'\n",
       "\\item '\\textbackslash{}thello'\n",
       "\\end{enumerate*}\n"
      ],
      "text/markdown": [
       "1. 'a bird'\n",
       "2. ' 911'\n",
       "3. '\\thello'\n",
       "\n",
       "\n"
      ],
      "text/plain": [
       "[1] \"a bird\"  \" 911\"    \"\\thello\""
      ]
     },
     "metadata": {},
     "output_type": "display_data"
    }
   ],
   "source": [
    "grep(\"\\\\s\\\\w*\",c(\"a bird\",\"life\",\" 911\",\"\\thello\"),value=TRUE)"
   ]
  },
  {
   "cell_type": "markdown",
   "metadata": {},
   "source": [
    "`+`すぐ前のものが１個以上でマッチ判定<br />\n",
    "`\\\\W`大文字にすることで小文字の否定となる、この場合文字または数字でないもの"
   ]
  },
  {
   "cell_type": "code",
   "execution_count": 28,
   "metadata": {},
   "outputs": [
    {
     "data": {
      "text/html": [
       "'+-/'"
      ],
      "text/latex": [
       "'+-/'"
      ],
      "text/markdown": [
       "'+-/'"
      ],
      "text/plain": [
       "[1] \"+-/\""
      ]
     },
     "metadata": {},
     "output_type": "display_data"
    }
   ],
   "source": [
    "grep(\"(\\\\W)+\",c(\"abc\",\"110\",\"+-/\",\"1\"),value=TRUE)"
   ]
  },
  {
   "cell_type": "markdown",
   "metadata": {},
   "source": [
    "`{n}`すぐ前のもの丁度`n`個でマッチ<br />\n",
    "`[0-9]`もまた数字である、`[]`の使い方はだいたい推測できるだろう<br />\n",
    "`|`グループ`()`と併用すれば又はの意味になる<br />"
   ]
  },
  {
   "cell_type": "code",
   "execution_count": 29,
   "metadata": {},
   "outputs": [
    {
     "data": {
      "text/html": [
       "<ol class=list-inline>\n",
       "\t<li>'12345'</li>\n",
       "\t<li>'meat pie'</li>\n",
       "</ol>\n"
      ],
      "text/latex": [
       "\\begin{enumerate*}\n",
       "\\item '12345'\n",
       "\\item 'meat pie'\n",
       "\\end{enumerate*}\n"
      ],
      "text/markdown": [
       "1. '12345'\n",
       "2. 'meat pie'\n",
       "\n",
       "\n"
      ],
      "text/plain": [
       "[1] \"12345\"    \"meat pie\""
      ]
     },
     "metadata": {},
     "output_type": "display_data"
    }
   ],
   "source": [
    "grep(\"([0-9]{3}|meat)\",c(\"vegetables\",\"12345\",\"12\",\"meat pie\"),value=TRUE)"
   ]
  },
  {
   "cell_type": "markdown",
   "metadata": {},
   "source": [
    "`{n,}`すぐ前のものが`n`個以上でマッチ<br />\n",
    "`.`はワイルドカード<br />\n",
    "`\\\\.`特殊文字をマッチしたい場合はエスケープする"
   ]
  },
  {
   "cell_type": "code",
   "execution_count": 30,
   "metadata": {},
   "outputs": [
    {
     "data": {
      "text/html": [
       "'B. hunter'"
      ],
      "text/latex": [
       "'B. hunter'"
      ],
      "text/markdown": [
       "'B. hunter'"
      ],
      "text/plain": [
       "[1] \"B. hunter\""
      ]
     },
     "metadata": {},
     "output_type": "display_data"
    }
   ],
   "source": [
    "grep(\"[A-Z]\\\\.\\\\s.{3,}\",c(\"A. 12\",\"B. hunter\",\"c. good\",\".build\"),value=TRUE)"
   ]
  },
  {
   "cell_type": "markdown",
   "metadata": {},
   "source": [
    "`{n,m}`すぐ前のものが`n`個以上`m`以下でマッチ<br />\n",
    "`$`で終わりを指定"
   ]
  },
  {
   "cell_type": "code",
   "execution_count": 31,
   "metadata": {},
   "outputs": [
    {
     "data": {
      "text/html": [
       "'Good bye.'"
      ],
      "text/latex": [
       "'Good bye.'"
      ],
      "text/markdown": [
       "'Good bye.'"
      ],
      "text/plain": [
       "[1] \"Good bye.\""
      ]
     },
     "metadata": {},
     "output_type": "display_data"
    }
   ],
   "source": [
    "grep(\"^[A-Z].{5,10}\\\\.$\",c(\"A cat.\",\"Good morning.\",\"Good bye.\",\"A bad try!\",\n",
    "                           \"u try it.\"),value=TRUE)"
   ]
  },
  {
   "cell_type": "markdown",
   "metadata": {},
   "source": [
    "上ではまともで特定の長さの文だけ抽出しています。正規表現はまだまだできることが多いけど、作りながら学んだ方が効率的かなと思います。"
   ]
  }
 ],
 "metadata": {
  "kernelspec": {
   "display_name": "R",
   "language": "R",
   "name": "ir"
  },
  "language_info": {
   "codemirror_mode": "r",
   "file_extension": ".r",
   "mimetype": "text/x-r-source",
   "name": "R",
   "pygments_lexer": "r",
   "version": "3.5.0"
  }
 },
 "nbformat": 4,
 "nbformat_minor": 2
}
